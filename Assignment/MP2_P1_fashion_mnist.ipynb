{
 "cells": [
  {
   "cell_type": "markdown",
   "metadata": {},
   "source": [
    "# Assignment 3 : Image Classification on Fashion MNIST"
   ]
  },
  {
   "cell_type": "code",
   "execution_count": 1,
   "metadata": {},
   "outputs": [
    {
     "name": "stderr",
     "output_type": "stream",
     "text": [
      "/opt/sw/spack/apps/linux-rhel8-x86_64_v2/gcc-10.3.0/python-3.9.9-jh/lib/python3.9/site-packages/scipy/__init__.py:155: UserWarning: A NumPy version >=1.18.5 and <1.25.0 is required for this version of SciPy (detected version 1.26.4\n",
      "  warnings.warn(f\"A NumPy version >={np_minversion} and <{np_maxversion}\"\n"
     ]
    }
   ],
   "source": [
    "import os\n",
    "import numpy as np\n",
    "import torch\n",
    "import torch.nn as nn\n",
    "from torchvision import transforms\n",
    "from sklearn.metrics import average_precision_score\n",
    "from PIL import Image, ImageDraw\n",
    "import matplotlib.pyplot as plt\n",
    "from kaggle_submission import output_submission_csv\n",
    "from classifier import Classifier\n",
    "from fashion_mnist_dataloader import fashion_mnist_dataset, load_mnist, FASHION_MNIST_CLASSES\n",
    "\n",
    "\n",
    "%matplotlib inline\n",
    "%load_ext autoreload\n",
    "%autoreload 2"
   ]
  },
  {
   "cell_type": "markdown",
   "metadata": {},
   "source": [
    "In this assignment, you train a classifier to do classificaton on the Fashion-MNIST dataset. The dataset has 10 different class which can appear in any given image. Your classifier will predict whether each class appears in an image. This task is like the ImageNet competition where only a single most appropriate class is predicted for an image."
   ]
  },
  {
   "cell_type": "markdown",
   "metadata": {},
   "source": [
    "## Reading Pascal Data"
   ]
  },
  {
   "cell_type": "markdown",
   "metadata": {},
   "source": [
    "### Loading Training Data"
   ]
  },
  {
   "cell_type": "markdown",
   "metadata": {},
   "source": [
    "In the following cell we will load the training data and also apply some transforms to the data. Feel free to apply more [transforms](https://pytorch.org/docs/stable/torchvision/transforms.html) for data augmentation which can lead to better performance. "
   ]
  },
  {
   "cell_type": "code",
   "execution_count": 2,
   "metadata": {},
   "outputs": [],
   "source": [
    "# Transforms applied to the training data\n",
    "normalize = transforms.Normalize(mean=[0.485, 0.456, 0.406],\n",
    "                                     std= [0.229, 0.224, 0.225])\n",
    "\n",
    "train_transform = transforms.Compose([\n",
    "            #transforms.Resize(227),\n",
    "            #transforms.CenterCrop(227),\n",
    "            #transforms.ToTensor(),\n",
    "            #normalize\n",
    "        transforms.Resize(224),\n",
    "        transforms.CenterCrop(224),\n",
    "        transforms.RandomHorizontalFlip(),\n",
    "        transforms.RandomRotation(10),\n",
    "        transforms.ToTensor(),\n",
    "        normalize\n",
    "        ])\n"
   ]
  },
  {
   "cell_type": "code",
   "execution_count": 3,
   "metadata": {},
   "outputs": [
    {
     "data": {
      "text/plain": [
       "50000"
      ]
     },
     "execution_count": 3,
     "metadata": {},
     "output_type": "execute_result"
    }
   ],
   "source": [
    "ds_train = fashion_mnist_dataset('train', train_transform)\n",
    "len(ds_train)"
   ]
  },
  {
   "cell_type": "markdown",
   "metadata": {},
   "source": [
    "### Loading Validation Data"
   ]
  },
  {
   "cell_type": "markdown",
   "metadata": {},
   "source": [
    "We will load the test data for the Fashion-MNIST dataset. Do __NOT__ add data augmentation transforms to validation data."
   ]
  },
  {
   "cell_type": "code",
   "execution_count": 4,
   "metadata": {},
   "outputs": [],
   "source": [
    "# Transforms applied to the testing data\n",
    "test_transform = transforms.Compose([\n",
    "            #transforms.Resize(227),\n",
    "            #transforms.CenterCrop(227),\n",
    "            #transforms.ToTensor(),\n",
    "            #normalize,\n",
    "        transforms.ToTensor(),\n",
    "        normalize\n",
    "        ])"
   ]
  },
  {
   "cell_type": "code",
   "execution_count": 5,
   "metadata": {},
   "outputs": [
    {
     "data": {
      "text/plain": [
       "10000"
      ]
     },
     "execution_count": 5,
     "metadata": {},
     "output_type": "execute_result"
    }
   ],
   "source": [
    "ds_val = fashion_mnist_dataset('val', test_transform)\n",
    "len(ds_val)"
   ]
  },
  {
   "cell_type": "markdown",
   "metadata": {},
   "source": [
    "### Visualizing the Data\n",
    "\n",
    " Use the following code to visualize some random examples and corresponding annotations from the train set. "
   ]
  },
  {
   "cell_type": "code",
   "execution_count": 6,
   "metadata": {},
   "outputs": [
    {
     "data": {
      "image/png": "[encoded data removed]",
      "text/plain": [
       "<Figure size 144x144 with 1 Axes>"
      ]
     },
     "metadata": {
      "needs_background": "light"
     },
     "output_type": "display_data"
    },
    {
     "data": {
      "image/png": "[encoded data removed]",
      "text/plain": [
       "<Figure size 144x144 with 1 Axes>"
      ]
     },
     "metadata": {
      "needs_background": "light"
     },
     "output_type": "display_data"
    },
    {
     "data": {
      "image/png": "[encoded data removed]",
      "text/plain": [
       "<Figure size 144x144 with 1 Axes>"
      ]
     },
     "metadata": {
      "needs_background": "light"
     },
     "output_type": "display_data"
    },
    {
     "data": {
      "image/png": "[encoded data removed]",
      "text/plain": [
       "<Figure size 144x144 with 1 Axes>"
      ]
     },
     "metadata": {
      "needs_background": "light"
     },
     "output_type": "display_data"
    },
    {
     "data": {
      "image/png": "[encoded data removed]",
      "text/plain": [
       "<Figure size 144x144 with 1 Axes>"
      ]
     },
     "metadata": {
      "needs_background": "light"
     },
     "output_type": "display_data"
    }
   ],
   "source": [
    "X_train, Y_train = load_mnist('fashion-mnist', kind='train')\n",
    "mask = list(range(len(ds_train)))\n",
    "X_train = X_train[mask]\n",
    "\n",
    "for i in range(5):\n",
    "    idx = np.random.randint(0, len(ds_train))\n",
    "    img, label = X_train[idx], Y_train[idx]\n",
    "    img = img.reshape((28, 28))\n",
    "    plt.figure(figsize = (2,2))\n",
    "    plt.title(f'{FASHION_MNIST_CLASSES[label]}')\n",
    "    plt.imshow(img)"
   ]
  },
  {
   "cell_type": "markdown",
   "metadata": {},
   "source": [
    "# Classification"
   ]
  },
  {
   "cell_type": "code",
   "execution_count": 7,
   "metadata": {},
   "outputs": [],
   "source": [
    "device = torch.device(\"cuda:0\" if torch.cuda.is_available() else \"cpu\")"
   ]
  },
  {
   "cell_type": "code",
   "execution_count": 8,
   "metadata": {},
   "outputs": [],
   "source": [
    "train_loader = torch.utils.data.DataLoader(dataset=ds_train,\n",
    "                                               batch_size=64, \n",
    "                                               shuffle=True,\n",
    "                                               num_workers=1)"
   ]
  },
  {
   "cell_type": "code",
   "execution_count": 9,
   "metadata": {},
   "outputs": [],
   "source": [
    "val_loader = torch.utils.data.DataLoader(dataset=ds_val,\n",
    "                                               batch_size=5, \n",
    "                                               shuffle=False,\n",
    "                                               num_workers=1)"
   ]
  },
  {
   "cell_type": "code",
   "execution_count": 10,
   "metadata": {},
   "outputs": [],
   "source": [
    "def train_classifier(train_loader, classifier, criterion, optimizer):\n",
    "    classifier.train()\n",
    "    loss_ = 0.0\n",
    "    losses = []\n",
    "    losses_plot = []\n",
    "    for i, (images, labels) in enumerate(train_loader):\n",
    "        images, labels = images.to(device), labels.to(device)\n",
    "        optimizer.zero_grad()\n",
    "        logits = classifier(images)\n",
    "        loss = criterion(logits, labels)\n",
    "        loss.backward()\n",
    "        optimizer.step()\n",
    "        losses.append(loss)\n",
    "        losses_plot.append(loss.detach().item())\n",
    "\n",
    "    return torch.stack(losses).mean().item(), losses_plot"
   ]
  },
  {
   "cell_type": "code",
   "execution_count": 11,
   "metadata": {},
   "outputs": [],
   "source": [
    "def test_classifier(test_loader, classifier, criterion, print_ind_classes=True):\n",
    "    classifier.eval()\n",
    "    losses = []\n",
    "    with torch.no_grad():\n",
    "        y_true = np.zeros((0))\n",
    "        y_score = np.zeros((0,10))\n",
    "        for i, (images, labels) in enumerate(test_loader):\n",
    "            images, labels = images.to(device), labels.to(device)\n",
    "            logits = classifier(images)\n",
    "            y_true = np.concatenate((y_true, labels.cpu().numpy()), axis=0)\n",
    "            y_score = np.concatenate((y_score, logits.cpu().numpy()), axis=0)\n",
    "            loss = criterion(logits, labels)\n",
    "            losses.append(loss.item())\n",
    "        aps = []\n",
    "        \n",
    "        B = y_true.shape[0]\n",
    "        y_true_one_hot = np.zeros((B, 10))\n",
    "        y_true_one_hot[np.arange(B), y_true.astype(np.int16)] = 1\n",
    "\n",
    "        for i in range(10):\n",
    "            ap = average_precision_score(y_true_one_hot[:, i], y_score[:, i])\n",
    "            if print_ind_classes:\n",
    "                print(f'-------  Class: {i}     AP: {ap:>8.4f}  -------')\n",
    "            aps.append(ap)\n",
    "        \n",
    "        mAP = np.mean(aps)\n",
    "        test_loss = np.mean(losses)\n",
    "        print('mAP: {0:.4f}'.format(mAP))\n",
    "        print('Avg loss: {}'.format(test_loss))\n",
    "        \n",
    "    return mAP, test_loss, aps"
   ]
  },
  {
   "cell_type": "markdown",
   "metadata": {},
   "source": [
    "## Modifying the network \n",
    "\n",
    "The network you are given as is will allow you to reach around 0.15-0.2 mAP. To meet the benchmark for this assignment you will need to improve the network. There are a variety of different approaches you should try:\n",
    "\n",
    "* Network architecture changes\n",
    "    * Number of layers: try adding layers to make your network deeper\n",
    "\n",
    "\n"
   ]
  },
  {
   "cell_type": "code",
   "execution_count": 12,
   "metadata": {},
   "outputs": [],
   "source": [
    "classifier = Classifier().to(device)\n",
    "# You can can use this function to reload a network you have already saved previously\n",
    "#classifier.load_state_dict(torch.load('voc_classifier.pth'))"
   ]
  },
  {
   "cell_type": "code",
   "execution_count": 13,
   "metadata": {},
   "outputs": [],
   "source": [
    "criterion = nn.CrossEntropyLoss()\n",
    "optimizer = torch.optim.SGD(classifier.parameters(), lr=0.01, momentum=0.9)"
   ]
  },
  {
   "cell_type": "code",
   "execution_count": 14,
   "metadata": {},
   "outputs": [
    {
     "name": "stdout",
     "output_type": "stream",
     "text": [
      "Starting epoch number 1\n",
      "Loss for Training on Epoch 1 is 0.9328799247741699\n",
      "Starting epoch number 2\n",
      "Loss for Training on Epoch 2 is 0.5815215110778809\n",
      "Starting epoch number 3\n",
      "Loss for Training on Epoch 3 is 0.5030185580253601\n",
      "Starting epoch number 4\n",
      "Loss for Training on Epoch 4 is 0.4592158794403076\n",
      "Starting epoch number 5\n",
      "Loss for Training on Epoch 5 is 0.42580652236938477\n",
      "-------  Class: 0     AP:   0.9152  -------\n",
      "-------  Class: 1     AP:   0.9934  -------\n",
      "-------  Class: 2     AP:   0.8842  -------\n",
      "-------  Class: 3     AP:   0.9595  -------\n",
      "-------  Class: 4     AP:   0.8641  -------\n",
      "-------  Class: 5     AP:   0.9938  -------\n",
      "-------  Class: 6     AP:   0.7227  -------\n",
      "-------  Class: 7     AP:   0.9819  -------\n",
      "-------  Class: 8     AP:   0.9951  -------\n",
      "-------  Class: 9     AP:   0.9908  -------\n",
      "mAP: 0.9301\n",
      "Avg loss: 0.339176708165498\n",
      "Evaluating classifier\n",
      "Mean Precision Score for Testing on Epoch 5 is 0.9300736961454861\n",
      "Starting epoch number 6\n",
      "Loss for Training on Epoch 6 is 0.40246784687042236\n",
      "Starting epoch number 7\n",
      "Loss for Training on Epoch 7 is 0.39276450872421265\n",
      "Starting epoch number 8\n",
      "Loss for Training on Epoch 8 is 0.3764924705028534\n",
      "Starting epoch number 9\n",
      "Loss for Training on Epoch 9 is 0.36515888571739197\n",
      "Starting epoch number 10\n",
      "Loss for Training on Epoch 10 is 0.3552299439907074\n",
      "-------  Class: 0     AP:   0.9312  -------\n",
      "-------  Class: 1     AP:   0.9944  -------\n",
      "-------  Class: 2     AP:   0.9042  -------\n",
      "-------  Class: 3     AP:   0.9660  -------\n",
      "-------  Class: 4     AP:   0.8828  -------\n",
      "-------  Class: 5     AP:   0.9956  -------\n",
      "-------  Class: 6     AP:   0.7620  -------\n",
      "-------  Class: 7     AP:   0.9865  -------\n",
      "-------  Class: 8     AP:   0.9964  -------\n",
      "-------  Class: 9     AP:   0.9937  -------\n",
      "mAP: 0.9413\n",
      "Avg loss: 0.3040907215166618\n",
      "Evaluating classifier\n",
      "Mean Precision Score for Testing on Epoch 10 is 0.9412738132595241\n",
      "Starting epoch number 11\n",
      "Loss for Training on Epoch 11 is 0.3469429612159729\n",
      "Starting epoch number 12\n",
      "Loss for Training on Epoch 12 is 0.3416714072227478\n",
      "Starting epoch number 13\n",
      "Loss for Training on Epoch 13 is 0.33541759848594666\n",
      "Starting epoch number 14\n",
      "Loss for Training on Epoch 14 is 0.32857000827789307\n",
      "Starting epoch number 15\n",
      "Loss for Training on Epoch 15 is 0.3264181315898895\n",
      "-------  Class: 0     AP:   0.9366  -------\n",
      "-------  Class: 1     AP:   0.9957  -------\n",
      "-------  Class: 2     AP:   0.9105  -------\n",
      "-------  Class: 3     AP:   0.9667  -------\n",
      "-------  Class: 4     AP:   0.9025  -------\n",
      "-------  Class: 5     AP:   0.9969  -------\n",
      "-------  Class: 6     AP:   0.7964  -------\n",
      "-------  Class: 7     AP:   0.9885  -------\n",
      "-------  Class: 8     AP:   0.9965  -------\n",
      "-------  Class: 9     AP:   0.9946  -------\n",
      "mAP: 0.9485\n",
      "Avg loss: 0.2842389156042757\n",
      "Evaluating classifier\n",
      "Mean Precision Score for Testing on Epoch 15 is 0.9484851801099895\n",
      "Starting epoch number 16\n",
      "Loss for Training on Epoch 16 is 0.3187779486179352\n",
      "Starting epoch number 17\n",
      "Loss for Training on Epoch 17 is 0.31434643268585205\n",
      "Starting epoch number 18\n",
      "Loss for Training on Epoch 18 is 0.31149357557296753\n",
      "Starting epoch number 19\n",
      "Loss for Training on Epoch 19 is 0.3024015426635742\n",
      "Starting epoch number 20\n",
      "Loss for Training on Epoch 20 is 0.30432915687561035\n",
      "-------  Class: 0     AP:   0.9412  -------\n",
      "-------  Class: 1     AP:   0.9955  -------\n",
      "-------  Class: 2     AP:   0.9191  -------\n",
      "-------  Class: 3     AP:   0.9715  -------\n",
      "-------  Class: 4     AP:   0.9082  -------\n",
      "-------  Class: 5     AP:   0.9967  -------\n",
      "-------  Class: 6     AP:   0.8043  -------\n",
      "-------  Class: 7     AP:   0.9892  -------\n",
      "-------  Class: 8     AP:   0.9962  -------\n",
      "-------  Class: 9     AP:   0.9946  -------\n",
      "mAP: 0.9516\n",
      "Avg loss: 0.27560740056704036\n",
      "Evaluating classifier\n",
      "Mean Precision Score for Testing on Epoch 20 is 0.9516477231778826\n",
      "Starting epoch number 21\n",
      "Loss for Training on Epoch 21 is 0.3009565770626068\n",
      "Starting epoch number 22\n",
      "Loss for Training on Epoch 22 is 0.29763367772102356\n",
      "Starting epoch number 23\n",
      "Loss for Training on Epoch 23 is 0.296561598777771\n",
      "Starting epoch number 24\n",
      "Loss for Training on Epoch 24 is 0.29336294531822205\n",
      "Starting epoch number 25\n",
      "Loss for Training on Epoch 25 is 0.28910529613494873\n",
      "-------  Class: 0     AP:   0.9433  -------\n",
      "-------  Class: 1     AP:   0.9959  -------\n",
      "-------  Class: 2     AP:   0.9208  -------\n",
      "-------  Class: 3     AP:   0.9725  -------\n",
      "-------  Class: 4     AP:   0.9148  -------\n",
      "-------  Class: 5     AP:   0.9970  -------\n",
      "-------  Class: 6     AP:   0.8201  -------\n",
      "-------  Class: 7     AP:   0.9906  -------\n",
      "-------  Class: 8     AP:   0.9967  -------\n",
      "-------  Class: 9     AP:   0.9959  -------\n",
      "mAP: 0.9548\n",
      "Avg loss: 0.26295950544239544\n",
      "Evaluating classifier\n",
      "Mean Precision Score for Testing on Epoch 25 is 0.9547700333603283\n"
     ]
    }
   ],
   "source": [
    "# Training the Classifier\n",
    "NUM_EPOCHS = 25\n",
    "TEST_FREQUENCY = 5\n",
    "\n",
    "trn_loss, vld_loss = [], []\n",
    "\n",
    "for epoch in range(1, NUM_EPOCHS+1):\n",
    "    print(\"Starting epoch number \" + str(epoch))\n",
    "    train_loss, losses = train_classifier(train_loader, classifier, criterion, optimizer)\n",
    "    print(\"Loss for Training on Epoch \" +str(epoch) + \" is \"+ str(train_loss))\n",
    "    \n",
    "    if(epoch%TEST_FREQUENCY==0):\n",
    "        mAP_val, val_loss, _ = test_classifier(val_loader, classifier, criterion)\n",
    "        print('Evaluating classifier')\n",
    "        print(\"Mean Precision Score for Testing on Epoch \" +str(epoch) + \" is \"+ str(mAP_val))\n",
    "        vld_loss.append(val_loss)\n",
    "        trn_loss.append(train_loss)\n",
    "        "
   ]
  },
  {
   "cell_type": "code",
   "execution_count": 15,
   "metadata": {},
   "outputs": [],
   "source": [
    "# Save the clssifier network\n",
    "# Suggestion: you can save checkpoints of your network during training and reload them later\n",
    "torch.save(classifier.state_dict(), './fashion_mnist_classifier.pth')"
   ]
  },
  {
   "cell_type": "code",
   "execution_count": 16,
   "metadata": {},
   "outputs": [
    {
     "data": {
      "text/plain": [
       "<matplotlib.legend.Legend at 0x7f9b7574a3a0>"
      ]
     },
     "execution_count": 16,
     "metadata": {},
     "output_type": "execute_result"
    },
    {
     "data": {
      "image/png": "[encoded data removed]",
      "text/plain": [
       "<Figure size 1000x1000 with 1 Axes>"
      ]
     },
     "metadata": {
      "needs_background": "light"
     },
     "output_type": "display_data"
    }
   ],
   "source": [
    "plt.figure(figsize=(5,5),dpi=200)\n",
    "plt.plot(trn_loss,label='Training Loss')\n",
    "plt.plot(vld_loss,label='Validation Loss')\n",
    "plt.legend(loc='upper right')"
   ]
  },
  {
   "cell_type": "code",
   "execution_count": 17,
   "metadata": {},
   "outputs": [
    {
     "data": {
      "text/plain": [
       "Classifier(\n",
       "  (conv1): Conv2d(1, 16, kernel_size=(5, 5), stride=(1, 1))\n",
       "  (conv2): Conv2d(16, 24, kernel_size=(5, 5), stride=(1, 1))\n",
       "  (dropout1): Dropout(p=0.25, inplace=False)\n",
       "  (dropout2): Dropout(p=0.5, inplace=False)\n",
       "  (pool): MaxPool2d(kernel_size=2, stride=2, padding=0, dilation=1, ceil_mode=False)\n",
       "  (fc1): Linear(in_features=384, out_features=100, bias=True)\n",
       "  (fc2): Linear(in_features=100, out_features=10, bias=True)\n",
       ")"
      ]
     },
     "execution_count": 17,
     "metadata": {},
     "output_type": "execute_result"
    }
   ],
   "source": [
    "classifier"
   ]
  },
  {
   "cell_type": "markdown",
   "metadata": {},
   "source": [
    "# Evaluate on test set\n",
    "\n"
   ]
  },
  {
   "cell_type": "code",
   "execution_count": 18,
   "metadata": {},
   "outputs": [
    {
     "name": "stdout",
     "output_type": "stream",
     "text": [
      "-------  Class: 0     AP:   0.9250  -------\n",
      "-------  Class: 1     AP:   0.9972  -------\n",
      "-------  Class: 2     AP:   0.9203  -------\n",
      "-------  Class: 3     AP:   0.9617  -------\n",
      "-------  Class: 4     AP:   0.9171  -------\n",
      "-------  Class: 5     AP:   0.9973  -------\n",
      "-------  Class: 6     AP:   0.8106  -------\n",
      "-------  Class: 7     AP:   0.9925  -------\n",
      "-------  Class: 8     AP:   0.9966  -------\n",
      "-------  Class: 9     AP:   0.9945  -------\n",
      "mAP: 0.9513\n",
      "Avg loss: 0.27888291344046595\n"
     ]
    }
   ],
   "source": [
    "ds_test = fashion_mnist_dataset('test', test_transform)\n",
    "\n",
    "test_loader = torch.utils.data.DataLoader(dataset=ds_test,\n",
    "                                               batch_size=50, \n",
    "                                               shuffle=False,\n",
    "                                               num_workers=1)\n",
    "\n",
    "mAP_test, test_loss, test_aps = test_classifier(test_loader, classifier, criterion)"
   ]
  },
  {
   "cell_type": "code",
   "execution_count": 19,
   "metadata": {},
   "outputs": [],
   "source": [
    "output_submission_csv('my_solution.csv', test_aps)"
   ]
  },
  {
   "cell_type": "code",
   "execution_count": null,
   "metadata": {},
   "outputs": [],
   "source": []
  }
 ],
 "metadata": {
  "kernelspec": {
   "display_name": "Python 3 (ipykernel)",
   "language": "python",
   "name": "python3"
  },
  "language_info": {
   "codemirror_mode": {
    "name": "ipython",
    "version": 3
   },
   "file_extension": ".py",
   "mimetype": "text/x-python",
   "name": "python",
   "nbconvert_exporter": "python",
   "pygments_lexer": "ipython3",
   "version": "3.9.9"
  },
  "vscode": {
   "interpreter": {
    "hash": "a56fbc4ce81ac77ce09ed64d30142ca76a6cd6434d22ac4d931d633d2bbfd088"
   }
  }
 },
 "nbformat": 4,
 "nbformat_minor": 1
}
